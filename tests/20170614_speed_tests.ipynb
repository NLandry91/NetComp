{
 "cells": [
  {
   "cell_type": "code",
   "execution_count": 1,
   "metadata": {
    "collapsed": true
   },
   "outputs": [],
   "source": [
    "import netcomp as nc"
   ]
  },
  {
   "cell_type": "markdown",
   "metadata": {},
   "source": [
    "# Speed Tests\n",
    "\n",
    "We're going to test the timing (absolute, and complexity) for the algorithms we've got implemented so far.\n",
    "\n",
    "We'll do this in the following manner. We'll set up a script for running multiple timing runs in parallel, then we'll take the average time (or maybe average of $n$ lowest?) in order to start examining the complexity. "
   ]
  },
  {
   "cell_type": "code",
   "execution_count": 2,
   "metadata": {
    "collapsed": true
   },
   "outputs": [],
   "source": [
    "# Import things we'll use to analyze the timing\n",
    "from sklearn.linear_model import LinearRegression\n",
    "%load_ext line_profiler\n",
    "\n",
    "def complexity_plot(log_range,times):\n",
    "    \"Make a logarithmic complexity plot, report best-fit line slope.\"\n",
    "    logtime = np.log(times).reshape(-1,1)\n",
    "    logn = np.log(log_range).reshape(-1,1)\n",
    "    regr = LinearRegression()\n",
    "    regr.fit(logn,logtime)\n",
    "\n",
    "    slope = float(regr.coef_)\n",
    "    fit_line = np.exp(regr.predict(logn))\n",
    "    \n",
    "    plt.figure();\n",
    "\n",
    "    plt.loglog(log_range,times,'o');\n",
    "    plt.loglog(log_range,fit_line,'--');\n",
    "    plt.xlabel('Size of Problem');\n",
    "    plt.ylabel('Time Elapsed');\n",
    "    print('Best fit line has slope {:0.03f}.'.format(slope))"
   ]
  },
  {
   "cell_type": "code",
   "execution_count": null,
   "metadata": {
    "collapsed": true
   },
   "outputs": [],
   "source": []
  }
 ],
 "metadata": {
  "anaconda-cloud": {},
  "kernelspec": {
   "display_name": "Python [default]",
   "language": "python",
   "name": "python3"
  },
  "language_info": {
   "codemirror_mode": {
    "name": "ipython",
    "version": 3
   },
   "file_extension": ".py",
   "mimetype": "text/x-python",
   "name": "python",
   "nbconvert_exporter": "python",
   "pygments_lexer": "ipython3",
   "version": "3.5.2"
  }
 },
 "nbformat": 4,
 "nbformat_minor": 2
}
